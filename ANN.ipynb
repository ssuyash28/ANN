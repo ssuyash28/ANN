{
 "cells": [
  {
   "cell_type": "code",
   "execution_count": 3,
   "metadata": {
    "collapsed": true
   },
   "outputs": [],
   "source": [
    "#Importing libraries\n",
    "import keras\n",
    "from keras.models import Sequential\n",
    "from keras.layers import Dense\n",
    "import pandas as pd"
   ]
  },
  {
   "cell_type": "code",
   "execution_count": 4,
   "metadata": {
    "collapsed": true
   },
   "outputs": [],
   "source": [
    "#Read file\n",
    "train=pd.read_csv('Churn_Modelling.csv')"
   ]
  },
  {
   "cell_type": "code",
   "execution_count": 7,
   "metadata": {},
   "outputs": [
    {
     "data": {
      "text/html": [
       "<div>\n",
       "<style>\n",
       "    .dataframe thead tr:only-child th {\n",
       "        text-align: right;\n",
       "    }\n",
       "\n",
       "    .dataframe thead th {\n",
       "        text-align: left;\n",
       "    }\n",
       "\n",
       "    .dataframe tbody tr th {\n",
       "        vertical-align: top;\n",
       "    }\n",
       "</style>\n",
       "<table border=\"1\" class=\"dataframe\">\n",
       "  <thead>\n",
       "    <tr style=\"text-align: right;\">\n",
       "      <th></th>\n",
       "      <th>CreditScore</th>\n",
       "      <th>Geography</th>\n",
       "      <th>Gender</th>\n",
       "      <th>Age</th>\n",
       "      <th>Tenure</th>\n",
       "      <th>Balance</th>\n",
       "      <th>NumOfProducts</th>\n",
       "      <th>HasCrCard</th>\n",
       "      <th>IsActiveMember</th>\n",
       "      <th>EstimatedSalary</th>\n",
       "      <th>Exited</th>\n",
       "    </tr>\n",
       "  </thead>\n",
       "  <tbody>\n",
       "    <tr>\n",
       "      <th>0</th>\n",
       "      <td>619</td>\n",
       "      <td>France</td>\n",
       "      <td>Female</td>\n",
       "      <td>42</td>\n",
       "      <td>2</td>\n",
       "      <td>0.00</td>\n",
       "      <td>1</td>\n",
       "      <td>1</td>\n",
       "      <td>1</td>\n",
       "      <td>101348.88</td>\n",
       "      <td>1</td>\n",
       "    </tr>\n",
       "    <tr>\n",
       "      <th>1</th>\n",
       "      <td>608</td>\n",
       "      <td>Spain</td>\n",
       "      <td>Female</td>\n",
       "      <td>41</td>\n",
       "      <td>1</td>\n",
       "      <td>83807.86</td>\n",
       "      <td>1</td>\n",
       "      <td>0</td>\n",
       "      <td>1</td>\n",
       "      <td>112542.58</td>\n",
       "      <td>0</td>\n",
       "    </tr>\n",
       "    <tr>\n",
       "      <th>2</th>\n",
       "      <td>502</td>\n",
       "      <td>France</td>\n",
       "      <td>Female</td>\n",
       "      <td>42</td>\n",
       "      <td>8</td>\n",
       "      <td>159660.80</td>\n",
       "      <td>3</td>\n",
       "      <td>1</td>\n",
       "      <td>0</td>\n",
       "      <td>113931.57</td>\n",
       "      <td>1</td>\n",
       "    </tr>\n",
       "    <tr>\n",
       "      <th>3</th>\n",
       "      <td>699</td>\n",
       "      <td>France</td>\n",
       "      <td>Female</td>\n",
       "      <td>39</td>\n",
       "      <td>1</td>\n",
       "      <td>0.00</td>\n",
       "      <td>2</td>\n",
       "      <td>0</td>\n",
       "      <td>0</td>\n",
       "      <td>93826.63</td>\n",
       "      <td>0</td>\n",
       "    </tr>\n",
       "    <tr>\n",
       "      <th>4</th>\n",
       "      <td>850</td>\n",
       "      <td>Spain</td>\n",
       "      <td>Female</td>\n",
       "      <td>43</td>\n",
       "      <td>2</td>\n",
       "      <td>125510.82</td>\n",
       "      <td>1</td>\n",
       "      <td>1</td>\n",
       "      <td>1</td>\n",
       "      <td>79084.10</td>\n",
       "      <td>0</td>\n",
       "    </tr>\n",
       "  </tbody>\n",
       "</table>\n",
       "</div>"
      ],
      "text/plain": [
       "   CreditScore Geography  Gender  Age  Tenure    Balance  NumOfProducts  \\\n",
       "0          619    France  Female   42       2       0.00              1   \n",
       "1          608     Spain  Female   41       1   83807.86              1   \n",
       "2          502    France  Female   42       8  159660.80              3   \n",
       "3          699    France  Female   39       1       0.00              2   \n",
       "4          850     Spain  Female   43       2  125510.82              1   \n",
       "\n",
       "   HasCrCard  IsActiveMember  EstimatedSalary  Exited  \n",
       "0          1               1        101348.88       1  \n",
       "1          0               1        112542.58       0  \n",
       "2          1               0        113931.57       1  \n",
       "3          0               0         93826.63       0  \n",
       "4          1               1         79084.10       0  "
      ]
     },
     "execution_count": 7,
     "metadata": {},
     "output_type": "execute_result"
    }
   ],
   "source": [
    "train=train.iloc[:,3:]\n",
    "train.head()"
   ]
  },
  {
   "cell_type": "code",
   "execution_count": 9,
   "metadata": {},
   "outputs": [
    {
     "ename": "AttributeError",
     "evalue": "'numpy.ndarray' object has no attribute 'head'",
     "output_type": "error",
     "traceback": [
      "\u001b[0;31m\u001b[0m",
      "\u001b[0;31mAttributeError\u001b[0mTraceback (most recent call last)",
      "\u001b[0;32m<ipython-input-9-56e0c535a7d3>\u001b[0m in \u001b[0;36m<module>\u001b[0;34m()\u001b[0m\n\u001b[1;32m      7\u001b[0m \u001b[0mohe\u001b[0m\u001b[0;34m=\u001b[0m\u001b[0mOneHotEncoder\u001b[0m\u001b[0;34m(\u001b[0m\u001b[0mcategorical_features\u001b[0m\u001b[0;34m=\u001b[0m\u001b[0;34m[\u001b[0m\u001b[0;36m1\u001b[0m\u001b[0;34m]\u001b[0m\u001b[0;34m)\u001b[0m\u001b[0;34m\u001b[0m\u001b[0m\n\u001b[1;32m      8\u001b[0m \u001b[0mtrain\u001b[0m\u001b[0;34m=\u001b[0m\u001b[0mohe\u001b[0m\u001b[0;34m.\u001b[0m\u001b[0mfit_transform\u001b[0m\u001b[0;34m(\u001b[0m\u001b[0mtrain\u001b[0m\u001b[0;34m)\u001b[0m\u001b[0;34m.\u001b[0m\u001b[0mtoarray\u001b[0m\u001b[0;34m(\u001b[0m\u001b[0;34m)\u001b[0m\u001b[0;34m\u001b[0m\u001b[0m\n\u001b[0;32m----> 9\u001b[0;31m \u001b[0mtrain\u001b[0m\u001b[0;34m.\u001b[0m\u001b[0mhead\u001b[0m\u001b[0;34m(\u001b[0m\u001b[0;34m)\u001b[0m\u001b[0;34m\u001b[0m\u001b[0m\n\u001b[0m",
      "\u001b[0;31mAttributeError\u001b[0m: 'numpy.ndarray' object has no attribute 'head'"
     ]
    }
   ],
   "source": [
    "#One Hot Encoding\n",
    "from sklearn.preprocessing import OneHotEncoder,LabelEncoder\n",
    "lb1=LabelEncoder()\n",
    "train.iloc[:,1]=lb1.fit_transform(train.iloc[:,1])\n",
    "lb2=LabelEncoder()\n",
    "train.iloc[:,2]=lb2.fit_transform(train.iloc[:,2])\n",
    "ohe=OneHotEncoder(categorical_features=[1])\n",
    "train=ohe.fit_transform(train).toarray()"
   ]
  },
  {
   "cell_type": "code",
   "execution_count": 12,
   "metadata": {},
   "outputs": [
    {
     "data": {
      "text/plain": [
       "array([[0.0000000e+00, 0.0000000e+00, 6.1900000e+02, ..., 1.0000000e+00,\n",
       "        1.0134888e+05, 1.0000000e+00],\n",
       "       [0.0000000e+00, 1.0000000e+00, 6.0800000e+02, ..., 1.0000000e+00,\n",
       "        1.1254258e+05, 0.0000000e+00],\n",
       "       [0.0000000e+00, 0.0000000e+00, 5.0200000e+02, ..., 0.0000000e+00,\n",
       "        1.1393157e+05, 1.0000000e+00],\n",
       "       ...,\n",
       "       [0.0000000e+00, 0.0000000e+00, 7.0900000e+02, ..., 1.0000000e+00,\n",
       "        4.2085580e+04, 1.0000000e+00],\n",
       "       [1.0000000e+00, 0.0000000e+00, 7.7200000e+02, ..., 0.0000000e+00,\n",
       "        9.2888520e+04, 1.0000000e+00],\n",
       "       [0.0000000e+00, 0.0000000e+00, 7.9200000e+02, ..., 0.0000000e+00,\n",
       "        3.8190780e+04, 0.0000000e+00]])"
      ]
     },
     "execution_count": 12,
     "metadata": {},
     "output_type": "execute_result"
    }
   ],
   "source": [
    "train=train[:,1:]\n",
    "train"
   ]
  },
  {
   "cell_type": "code",
   "execution_count": 30,
   "metadata": {
    "collapsed": true
   },
   "outputs": [],
   "source": [
    "from sklearn.preprocessing import StandardScaler\n",
    "sc=StandardScaler()\n",
    "train=sc.fit_transform(train)"
   ]
  },
  {
   "cell_type": "code",
   "execution_count": 38,
   "metadata": {},
   "outputs": [
    {
     "data": {
      "text/plain": [
       "array([[-0.57873591, -0.57380915, -0.32622142, ...,  0.97024255,\n",
       "         0.02188649,  1.97716468],\n",
       "       [-0.57873591,  1.74273971, -0.44003595, ...,  0.97024255,\n",
       "         0.21653375, -0.50577476],\n",
       "       [-0.57873591, -0.57380915, -1.53679418, ..., -1.03067011,\n",
       "         0.2406869 ,  1.97716468],\n",
       "       ...,\n",
       "       [-0.57873591, -0.57380915,  0.60498839, ...,  0.97024255,\n",
       "        -1.00864308,  1.97716468],\n",
       "       [ 1.72790383, -0.57380915,  1.25683526, ..., -1.03067011,\n",
       "        -0.12523071,  1.97716468],\n",
       "       [-0.57873591, -0.57380915,  1.46377078, ..., -1.03067011,\n",
       "        -1.07636976, -0.50577476]])"
      ]
     },
     "execution_count": 38,
     "metadata": {},
     "output_type": "execute_result"
    }
   ],
   "source": [
    "train"
   ]
  },
  {
   "cell_type": "code",
   "execution_count": 33,
   "metadata": {
    "collapsed": true
   },
   "outputs": [],
   "source": [
    "#Initialize ANN\n",
    "model= Sequential()"
   ]
  },
  {
   "cell_type": "code",
   "execution_count": 34,
   "metadata": {},
   "outputs": [
    {
     "name": "stderr",
     "output_type": "stream",
     "text": [
      "/home/suyash/anaconda2/lib/python2.7/site-packages/ipykernel_launcher.py:2: UserWarning: Update your `Dense` call to the Keras 2 API: `Dense(kernel_initializer=\"uniform\", activation=\"relu\", input_dim=11, units=6)`\n",
      "  \n"
     ]
    }
   ],
   "source": [
    "#Input layer and first hidden layer\n",
    "model.add(Dense(output_dim=6,input_dim=11,activation='relu',init='uniform'))"
   ]
  },
  {
   "cell_type": "code",
   "execution_count": 35,
   "metadata": {},
   "outputs": [
    {
     "name": "stderr",
     "output_type": "stream",
     "text": [
      "/home/suyash/anaconda2/lib/python2.7/site-packages/ipykernel_launcher.py:1: UserWarning: Update your `Dense` call to the Keras 2 API: `Dense(units=6, kernel_initializer=\"uniform\", activation=\"relu\")`\n",
      "  \"\"\"Entry point for launching an IPython kernel.\n",
      "/home/suyash/anaconda2/lib/python2.7/site-packages/ipykernel_launcher.py:2: UserWarning: Update your `Dense` call to the Keras 2 API: `Dense(units=1, kernel_initializer=\"uniform\", activation=\"sigmoid\")`\n",
      "  \n"
     ]
    }
   ],
   "source": [
    "model.add(Dense(output_dim=6,activation='relu',init='uniform'))\n",
    "model.add(Dense(output_dim=1,activation='sigmoid',init='uniform'))"
   ]
  },
  {
   "cell_type": "code",
   "execution_count": 36,
   "metadata": {
    "collapsed": true
   },
   "outputs": [],
   "source": [
    "#Compile\n",
    "model.compile(loss='binary_crossentropy',optimizer='adam',metrics=['accuracy'])"
   ]
  },
  {
   "cell_type": "code",
   "execution_count": 37,
   "metadata": {},
   "outputs": [
    {
     "name": "stdout",
     "output_type": "stream",
     "text": [
      "Epoch 1/50\n",
      "8000/8000 [==============================] - 1s 160us/step - loss: -0.7417 - acc: 0.0000e+00\n",
      "Epoch 2/50\n",
      "8000/8000 [==============================] - 1s 138us/step - loss: -2.4416 - acc: 0.0000e+00\n",
      "Epoch 3/50\n",
      "8000/8000 [==============================] - 1s 139us/step - loss: -2.5729 - acc: 0.0000e+00\n",
      "Epoch 4/50\n",
      "8000/8000 [==============================] - 1s 138us/step - loss: -2.6094 - acc: 0.0000e+00\n",
      "Epoch 5/50\n",
      "8000/8000 [==============================] - 1s 140us/step - loss: -2.6334 - acc: 0.0000e+00\n",
      "Epoch 6/50\n",
      "8000/8000 [==============================] - 1s 151us/step - loss: -2.6544 - acc: 0.0000e+00\n",
      "Epoch 7/50\n",
      "8000/8000 [==============================] - 1s 157us/step - loss: -2.6821 - acc: 0.0000e+00\n",
      "Epoch 8/50\n",
      "8000/8000 [==============================] - 1s 147us/step - loss: -2.7089 - acc: 0.0000e+00\n",
      "Epoch 9/50\n",
      "8000/8000 [==============================] - 1s 157us/step - loss: -2.7351 - acc: 0.0000e+00\n",
      "Epoch 10/50\n",
      "8000/8000 [==============================] - 1s 143us/step - loss: -2.7654 - acc: 0.0000e+00\n",
      "Epoch 11/50\n",
      "8000/8000 [==============================] - 1s 143us/step - loss: -2.7927 - acc: 0.0000e+00\n",
      "Epoch 12/50\n",
      "8000/8000 [==============================] - 1s 135us/step - loss: -2.8210 - acc: 0.0000e+00\n",
      "Epoch 13/50\n",
      "8000/8000 [==============================] - 1s 156us/step - loss: -2.8453 - acc: 0.0000e+00\n",
      "Epoch 14/50\n",
      "8000/8000 [==============================] - 1s 167us/step - loss: -2.8687 - acc: 0.0000e+00\n",
      "Epoch 15/50\n",
      "8000/8000 [==============================] - 1s 148us/step - loss: -2.8891 - acc: 0.0000e+00\n",
      "Epoch 16/50\n",
      "8000/8000 [==============================] - 1s 144us/step - loss: -2.9124 - acc: 0.0000e+00\n",
      "Epoch 17/50\n",
      "8000/8000 [==============================] - 1s 143us/step - loss: -2.9312 - acc: 0.0000e+00\n",
      "Epoch 18/50\n",
      "8000/8000 [==============================] - 1s 149us/step - loss: -2.9580 - acc: 0.0000e+00\n",
      "Epoch 19/50\n",
      "8000/8000 [==============================] - 1s 156us/step - loss: -2.9731 - acc: 0.0000e+00\n",
      "Epoch 20/50\n",
      "8000/8000 [==============================] - 1s 152us/step - loss: -2.9983 - acc: 0.0000e+00\n",
      "Epoch 21/50\n",
      "8000/8000 [==============================] - 1s 151us/step - loss: -3.0193 - acc: 0.0000e+00\n",
      "Epoch 22/50\n",
      "8000/8000 [==============================] - 1s 146us/step - loss: -3.0415 - acc: 0.0000e+00\n",
      "Epoch 23/50\n",
      "8000/8000 [==============================] - 1s 141us/step - loss: -3.0646 - acc: 0.0000e+00\n",
      "Epoch 24/50\n",
      "8000/8000 [==============================] - 1s 151us/step - loss: -3.0783 - acc: 0.0000e+00\n",
      "Epoch 25/50\n",
      "8000/8000 [==============================] - 1s 143us/step - loss: -3.1091 - acc: 0.0000e+00\n",
      "Epoch 26/50\n",
      "8000/8000 [==============================] - 1s 151us/step - loss: -3.1210 - acc: 0.0000e+00\n",
      "Epoch 27/50\n",
      "8000/8000 [==============================] - 1s 161us/step - loss: -3.1509 - acc: 0.0000e+00\n",
      "Epoch 28/50\n",
      "8000/8000 [==============================] - 1s 144us/step - loss: -3.1776 - acc: 0.0000e+00\n",
      "Epoch 29/50\n",
      "8000/8000 [==============================] - 1s 163us/step - loss: -3.1977 - acc: 0.0000e+00\n",
      "Epoch 30/50\n",
      "8000/8000 [==============================] - 1s 148us/step - loss: -3.2246 - acc: 0.0000e+00\n",
      "Epoch 31/50\n",
      "8000/8000 [==============================] - 1s 151us/step - loss: -3.2491 - acc: 0.0000e+00\n",
      "Epoch 32/50\n",
      "8000/8000 [==============================] - 1s 153us/step - loss: -3.2699 - acc: 0.0000e+00\n",
      "Epoch 33/50\n",
      "8000/8000 [==============================] - 1s 151us/step - loss: -3.2807 - acc: 0.0000e+00\n",
      "Epoch 34/50\n",
      "8000/8000 [==============================] - 1s 142us/step - loss: -3.2813 - acc: 0.0000e+00\n",
      "Epoch 35/50\n",
      "8000/8000 [==============================] - 1s 171us/step - loss: -3.2879 - acc: 0.0000e+00\n",
      "Epoch 36/50\n",
      "8000/8000 [==============================] - 1s 156us/step - loss: -3.2882 - acc: 0.0000e+00\n",
      "Epoch 37/50\n",
      "8000/8000 [==============================] - 1s 149us/step - loss: -3.2935 - acc: 0.0000e+00\n",
      "Epoch 38/50\n",
      "8000/8000 [==============================] - 1s 150us/step - loss: -3.2974 - acc: 0.0000e+00\n",
      "Epoch 39/50\n",
      "8000/8000 [==============================] - 1s 151us/step - loss: -3.2993 - acc: 0.0000e+00\n",
      "Epoch 40/50\n",
      "8000/8000 [==============================] - 1s 148us/step - loss: -3.3046 - acc: 0.0000e+00\n",
      "Epoch 41/50\n",
      "8000/8000 [==============================] - 1s 151us/step - loss: -3.3057 - acc: 0.0000e+00\n",
      "Epoch 42/50\n",
      "8000/8000 [==============================] - 1s 150us/step - loss: -3.3074 - acc: 0.0000e+00\n",
      "Epoch 43/50\n",
      "8000/8000 [==============================] - 1s 149us/step - loss: -3.3105 - acc: 0.0000e+00\n",
      "Epoch 44/50\n",
      "8000/8000 [==============================] - 1s 151us/step - loss: -3.3129 - acc: 0.0000e+00\n",
      "Epoch 45/50\n",
      "8000/8000 [==============================] - 1s 151us/step - loss: -3.3191 - acc: 0.0000e+00\n",
      "Epoch 46/50\n",
      "8000/8000 [==============================] - 1s 154us/step - loss: -3.3151 - acc: 0.0000e+00\n",
      "Epoch 47/50\n",
      "8000/8000 [==============================] - 1s 148us/step - loss: -3.3249 - acc: 0.0000e+00\n",
      "Epoch 48/50\n",
      "8000/8000 [==============================] - 1s 152us/step - loss: -3.3267 - acc: 0.0000e+00\n",
      "Epoch 49/50\n",
      "8000/8000 [==============================] - 1s 162us/step - loss: -3.3241 - acc: 0.0000e+00\n",
      "Epoch 50/50\n",
      "8000/8000 [==============================] - 1s 152us/step - loss: -3.3351 - acc: 0.0000e+00\n"
     ]
    },
    {
     "data": {
      "text/plain": [
       "<keras.callbacks.History at 0x7f132c9bbf10>"
      ]
     },
     "execution_count": 37,
     "metadata": {},
     "output_type": "execute_result"
    }
   ],
   "source": [
    "model.fit(train[:8000,:-1],train[:8000,-1],nb_epoch=50,batch_size=10)"
   ]
  }
 ],
 "metadata": {
  "kernelspec": {
   "display_name": "Python 2",
   "language": "python",
   "name": "python2"
  },
  "language_info": {
   "codemirror_mode": {
    "name": "ipython",
    "version": 2
   },
   "file_extension": ".py",
   "mimetype": "text/x-python",
   "name": "python",
   "nbconvert_exporter": "python",
   "pygments_lexer": "ipython2",
   "version": "2.7.14"
  }
 },
 "nbformat": 4,
 "nbformat_minor": 2
}
